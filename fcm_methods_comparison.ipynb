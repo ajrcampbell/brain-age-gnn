{
 "cells": [
  {
   "cell_type": "code",
   "execution_count": 15,
   "metadata": {},
   "outputs": [],
   "source": [
    "import numpy as np\n",
    "import matplotlib.pyplot as plt\n",
    "\n",
    "from nilearn import connectome\n",
    "from sklearn.covariance import EmpiricalCovariance\n",
    "\n",
    "# generate data\n",
    "# dim(x) = number ROI x time points\n",
    "x = np.random.rand(10, 100)"
   ]
  },
  {
   "cell_type": "code",
   "execution_count": 16,
   "metadata": {},
   "outputs": [
    {
     "data": {
      "image/png": "[encoded data removed]",
      "text/plain": [
       "<Figure size 576x216 with 2 Axes>"
      ]
     },
     "metadata": {
      "needs_background": "light"
     },
     "output_type": "display_data"
    }
   ],
   "source": [
    "def compute_connectivity(x):\n",
    "    mean = x.mean(1)\n",
    "    std = x.std(1, ddof=x.shape[1] - 1)\n",
    "    cov = np.dot(x, x.T) - (x.shape[1] * np.dot(mean[:, np.newaxis], mean[np.newaxis, :]))\n",
    "    return cov / np.dot(std[:, np.newaxis], std[np.newaxis, :])\n",
    "\n",
    "# fcm\n",
    "fcm = compute_connectivity(x)\n",
    "\n",
    "# mask fcm for lower triangle values\n",
    "mask = np.invert(np.tri(fcm.shape[0], k=-1, dtype=bool))\n",
    "m = np.ma.masked_where(mask == 1, mask)\n",
    "lower_tri_fcm = np.ma.masked_where(m, fcm)\n",
    "\n",
    "# plot\n",
    "fig, ax = plt.subplots(nrows=1, ncols=2, figsize=(8, 3))\n",
    "ax[0].imshow(fcm)\n",
    "ax[1].imshow(lower_tri_fcm)\n",
    "\n",
    "# flatten\n",
    "flat_fcm = lower_tri_fcm.compressed()\n",
    "assert flat_fcm.size == (fcm.shape[0] * (fcm.shape[0] - 1))*0.5"
   ]
  },
  {
   "cell_type": "code",
   "execution_count": 19,
   "metadata": {},
   "outputs": [
    {
     "data": {
      "image/png": "[encoded data removed]",
      "text/plain": [
       "<Figure size 576x216 with 2 Axes>"
      ]
     },
     "metadata": {
      "needs_background": "light"
     },
     "output_type": "display_data"
    }
   ],
   "source": [
    "cov_estimator = EmpiricalCovariance(assume_centered=False, store_precision=False)\n",
    "conn_measure = connectome.ConnectivityMeasure(cov_estimator=cov_estimator, kind='correlation')\n",
    "flat_conn_measure = connectome.ConnectivityMeasure(cov_estimator=cov_estimator, kind='correlation', vectorize=True, discard_diagonal=True)\n",
    "    \n",
    "    \n",
    "fcm_nilearn = conn_measure.fit_transform([np.transpose(x)])[0]\n",
    "\n",
    "# mask fcm for lower triangle values\n",
    "mask = np.invert(np.tri(fcm.shape[0], k=-1, dtype=bool))\n",
    "m = np.ma.masked_where(mask == 1, mask)\n",
    "lower_tri_fcm_nilearn = np.ma.masked_where(m, fcm_nilearn)\n",
    "\n",
    "# plot\n",
    "fig, ax = plt.subplots(nrows=1, ncols=2, figsize=(8, 3))\n",
    "ax[0].imshow(fcm_nilearn)\n",
    "ax[1].imshow(lower_tri_fcm_nilearn)\n",
    "\n",
    "# flatten\n",
    "flat_fcm_nilearn = flat_conn_measure.fit_transform([np.transpose(x)])[0]"
   ]
  },
  {
   "cell_type": "code",
   "execution_count": 21,
   "metadata": {},
   "outputs": [
    {
     "name": "stdout",
     "output_type": "stream",
     "text": [
      "[ 0.00299843  0.12210021  0.01798702 -0.00358009 -0.02169914  0.11402174\n",
      "  0.03148132  0.02140973  0.0116009  -0.13264272 -0.05615624  0.02069677\n",
      "  0.03776086  0.18436555  0.03084252 -0.02192827 -0.0398443  -0.01065307\n",
      " -0.00994539 -0.04756745  0.13343779  0.01383404  0.00123894 -0.02672097\n",
      "  0.2787904   0.14131453  0.22419656  0.2065612   0.01484874  0.06121679\n",
      "  0.00843613  0.02357982  0.02979187  0.20272534  0.00420957  0.15547289\n",
      "  0.00168591 -0.14458137 -0.0057672   0.16174265 -0.19864042 -0.03467758\n",
      "  0.10132395 -0.02914552  0.13010154]\n",
      "[ 0.00299843  0.12210021  0.01798702 -0.00358009 -0.02169914  0.11402174\n",
      "  0.03148132  0.02140973  0.0116009  -0.13264272 -0.05615624  0.02069677\n",
      "  0.03776086  0.18436555  0.03084252 -0.02192827 -0.0398443  -0.01065307\n",
      " -0.00994539 -0.04756745  0.13343779  0.01383404  0.00123894 -0.02672097\n",
      "  0.2787904   0.14131453  0.22419656  0.2065612   0.01484874  0.06121679\n",
      "  0.00843613  0.02357982  0.02979187  0.20272534  0.00420957  0.15547289\n",
      "  0.00168591 -0.14458137 -0.0057672   0.16174265 -0.19864042 -0.03467758\n",
      "  0.10132395 -0.02914552  0.13010154]\n"
     ]
    }
   ],
   "source": [
    "print(flat_fcm)\n",
    "print(flat_fcm_nilearn)"
   ]
  },
  {
   "cell_type": "code",
   "execution_count": 20,
   "metadata": {},
   "outputs": [
    {
     "data": {
      "text/plain": [
       "<matplotlib.image.AxesImage at 0x1c18424810>"
      ]
     },
     "execution_count": 20,
     "metadata": {},
     "output_type": "execute_result"
    },
    {
     "data": {
      "image/png": "[encoded data removed]",
      "text/plain": [
       "<Figure size 576x432 with 4 Axes>"
      ]
     },
     "metadata": {
      "needs_background": "light"
     },
     "output_type": "display_data"
    }
   ],
   "source": [
    "# plot both\n",
    "fig, ax = plt.subplots(nrows=2, ncols=2, figsize=(8, 6))\n",
    "ax[0][0].set_ylabel('original', fontsize='large')\n",
    "ax[0][0].imshow(fcm)\n",
    "ax[0][1].imshow(lower_tri_fcm)\n",
    "ax[1][0].set_ylabel('nilearn', fontsize='large')\n",
    "ax[1][0].imshow(fcm_nilearn)\n",
    "ax[1][1].imshow(lower_tri_fcm_nilearn)"
   ]
  },
  {
   "cell_type": "code",
   "execution_count": null,
   "metadata": {},
   "outputs": [],
   "source": []
  }
 ],
 "metadata": {
  "kernelspec": {
   "display_name": "Python 3",
   "language": "python",
   "name": "python3"
  },
  "language_info": {
   "codemirror_mode": {
    "name": "ipython",
    "version": 3
   },
   "file_extension": ".py",
   "mimetype": "text/x-python",
   "name": "python",
   "nbconvert_exporter": "python",
   "pygments_lexer": "ipython3",
   "version": "3.7.4"
  }
 },
 "nbformat": 4,
 "nbformat_minor": 2
}
