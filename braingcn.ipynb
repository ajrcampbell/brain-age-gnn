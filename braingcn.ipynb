{
 "cells": [
  {
   "cell_type": "code",
   "execution_count": 1,
   "outputs": [
    {
     "name": "stderr",
     "text": [
      "/Users/kamilestankeviciute/anaconda3/envs/tensorflow/lib/python3.7/site-packages/sklearn/externals/joblib/__init__.py:15: DeprecationWarning: sklearn.externals.joblib is deprecated in 0.21 and will be removed in 0.23. Please import this functionality directly from joblib, which can be installed with: pip install joblib. If this warning is raised when loading pickled models, you may need to re-serialize those models with scikit-learn 0.21+.\n  warnings.warn(msg, category=DeprecationWarning)\n"
     ],
     "output_type": "stream"
    }
   ],
   "source": [
    "import numpy as np\n",
    "import pandas as pd\n",
    "import os\n",
    "\n",
    "from nilearn.connectome import ConnectivityMeasure\n",
    "\n",
    "import torch\n",
    "from torch_geometric.data import Data\n",
    "\n",
    "# Data sources.\n",
    "data_timeseries = 'data/raw_ts'\n",
    "data_ct = 'data/CT.csv'\n",
    "data_euler = 'data/Euler.csv'\n",
    "graph_root = 'data/graph'\n",
    "\n",
    "def get_ts_filenames(num_subjects=None):\n",
    "    ts_filenames = [f for f in sorted(os.listdir(data_timeseries))]\n",
    "\n",
    "    if num_subjects is not None:\n",
    "        ts_filenames = ts_filenames[:num_subjects]\n",
    "\n",
    "    return ts_filenames\n",
    "\n",
    "\n",
    "# TODO: make selection random.\n",
    "def get_subject_ids(num_subjects=None):\n",
    "    \"\"\"\n",
    "    Gets the list of subject IDs for a spcecified number of subjects.\n",
    "    If the number of subjects is not specified, all IDs are returned.\n",
    "  \n",
    "    Args:\n",
    "        num_subjects: The number of subjects.\n",
    "\n",
    "    Returns:\n",
    "        List of subject IDs.\n",
    "    \"\"\"\n",
    "\n",
    "    return [f[:-len(\"_ts_raw.txt\")] for f in get_ts_filenames(num_subjects)]\n",
    "\n",
    "\n",
    "def get_raw_timeseries(subject_ids):\n",
    "    \"\"\"\n",
    "    Gets raw timeseries arrays for the given list of subjects.\n",
    "\n",
    "    Args:\n",
    "        subject_ids: List of subject IDs.\n",
    "\n",
    "    Returns:\n",
    "        List of timeseries. Rows in timeseries correspond to brain regions, columns correspond to timeseries values.\n",
    "    \"\"\"\n",
    "\n",
    "    timeseries = []\n",
    "    for subject_id in subject_ids:\n",
    "        f = os.path.join(data_timeseries, subject_id + '_ts_raw.txt')\n",
    "        print(\"Reading timeseries file %s\" % f)\n",
    "        timeseries.append(np.loadtxt(f, delimiter=','))\n",
    "\n",
    "    return timeseries\n",
    "\n",
    "\n",
    "# TODO: include the argument for the kind of connectivity matrix (partial\n",
    "# correlation, correlation, lasso,...)\n",
    "def get_functional_connectivity(subject_id, timeseries, save=True, save_path='data/processed_ts'):\n",
    "    \"\"\"\n",
    "    Derives the correlation matrix for the parcellated timeseries data.\n",
    "\n",
    "    Args:\n",
    "        subject_id: ID of subject.\n",
    "        timeseries: Parcellated timeseries of shape [number ROI, timepoints].\n",
    "        save: Indicates whether to save the connectivity matrix to a file.\n",
    "        save_path: Indicates the path where to store the connectivity matrix.\n",
    "\n",
    "    Returns:\n",
    "        The flattened lower triangle of the correlation matrix for the parcellated timeseries data.\n",
    "    \"\"\"\n",
    "\n",
    "    conn_measure = ConnectivityMeasure(\n",
    "        kind='correlation',\n",
    "        vectorize=True,\n",
    "        discard_diagonal=True)\n",
    "    connectivity = conn_measure.fit_transform([np.transpose(timeseries)])[0]\n",
    "\n",
    "    if save:\n",
    "        np.savetxt(os.path.join(save_path, \"{}.csv\".format(subject_id)),\n",
    "                   connectivity,\n",
    "                   delimiter=',')\n",
    "\n",
    "    return connectivity\n"
   ],
   "metadata": {
    "collapsed": false,
    "pycharm": {
     "name": "#%%\n",
     "is_executing": false
    }
   }
  },
  {
   "cell_type": "code",
   "execution_count": 7,
   "outputs": [
    {
     "name": "stdout",
     "text": [
      "['UKB1000028']\nReading timeseries file data/raw_ts/UKB1000028_ts_raw.txt\n"
     ],
     "output_type": "stream"
    }
   ],
   "source": [
    "subject_ids = get_subject_ids(1)\n",
    "print(subject_ids)\n",
    "ts = get_raw_timeseries(subject_ids)\n",
    "conn = get_functional_connectivity(subject_ids[0], ts[0])\n",
    "\n",
    "\n"
   ],
   "metadata": {
    "collapsed": false,
    "pycharm": {
     "name": "#%%\n",
     "is_executing": false
    }
   }
  },
  {
   "cell_type": "code",
   "execution_count": 4,
   "outputs": [
    {
     "name": "stdout",
     "text": [
      "70500\n"
     ],
     "output_type": "stream"
    }
   ],
   "source": [
    "print(len(conn))"
   ],
   "metadata": {
    "collapsed": false,
    "pycharm": {
     "name": "#%%\n",
     "is_executing": false
    }
   }
  },
  {
   "cell_type": "code",
   "execution_count": 6,
   "outputs": [],
   "source": [
    "np.save(os.path.join('data/processed_ts', subject_ids[0]), conn)"
   ],
   "metadata": {
    "collapsed": false,
    "pycharm": {
     "name": "#%%\n",
     "is_executing": false
    }
   }
  },
  {
   "cell_type": "code",
   "execution_count": null,
   "outputs": [],
   "source": [
    "\n"
   ],
   "metadata": {
    "collapsed": false,
    "pycharm": {
     "name": "#%%\n"
    }
   }
  }
 ],
 "metadata": {
  "kernelspec": {
   "display_name": "Python 3",
   "language": "python",
   "name": "python3"
  },
  "language_info": {
   "codemirror_mode": {
    "name": "ipython",
    "version": 2
   },
   "file_extension": ".py",
   "mimetype": "text/x-python",
   "name": "python",
   "nbconvert_exporter": "python",
   "pygments_lexer": "ipython2",
   "version": "2.7.6"
  },
  "pycharm": {
   "stem_cell": {
    "cell_type": "raw",
    "source": [
     "\n",
     "\n",
     "\n"
    ],
    "metadata": {
     "collapsed": false
    }
   }
  }
 },
 "nbformat": 4,
 "nbformat_minor": 0
}